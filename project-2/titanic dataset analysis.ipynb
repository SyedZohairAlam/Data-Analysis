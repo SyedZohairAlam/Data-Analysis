{
 "cells": [
  {
   "cell_type": "code",
   "execution_count": null,
   "id": "9d759945",
   "metadata": {},
   "outputs": [],
   "source": [
    "import pandas as pd\n",
    "import matplotlib.pyplot as plt\n",
    "\n",
    "# Load the Titanic dataset\n",
    "df = pd.read_csv(\"titanic_data.csv\")\n",
    "\n",
    "# Separate ages for survivors and non-survivors, removing missing values\n",
    "survived_ages = df[df[\"Survived\"] == 1][\"Age\"].dropna()\n",
    "not_survived_ages = df[df[\"Survived\"] == 0][\"Age\"].dropna()\n",
    "\n",
    "# Create a figure with a specific size\n",
    "plt.figure(figsize=(10, 6))\n",
    "\n",
    "# Plot stacked histogram with improved styling\n",
    "plt.hist(\n",
    "    [survived_ages, not_survived_ages],\n",
    "    bins=20,\n",
    "    color=[\"#66c2a5\", \"#fc8d62\"],  # Softer, distinct colors\n",
    "    edgecolor=\"black\",\n",
    "    label=[\"Survived\", \"Did Not Survive\"],\n",
    "    stacked=True,\n",
    "    alpha=0.8  # Slight transparency for better visuals\n",
    ")\n",
    "\n",
    "# Add labels and title with clear formatting\n",
    "plt.xlabel(\"Age (Years)\", fontsize=12)\n",
    "plt.ylabel(\"Number of Passengers\", fontsize=12)\n",
    "plt.title(\"Age Distribution of Titanic Passengers by Survival\", fontsize=14, pad=15)\n",
    "\n",
    "# Add grid for better readability\n",
    "plt.grid(axis=\"y\", linestyle=\"--\", alpha=0.7)\n",
    "\n",
    "# Add legend\n",
    "plt.legend(fontsize=10)\n",
    "\n",
    "# Adjust layout to prevent label cutoff\n",
    "plt.tight_layout()\n",
    "\n",
    "# Show the plot\n",
    "plt.show()"
   ]
  }
 ],
 "metadata": {
  "kernelspec": {
   "display_name": "Python 3 (ipykernel)",
   "language": "python",
   "name": "python3"
  },
  "language_info": {
   "codemirror_mode": {
    "name": "ipython",
    "version": 3
   },
   "file_extension": ".py",
   "mimetype": "text/x-python",
   "name": "python",
   "nbconvert_exporter": "python",
   "pygments_lexer": "ipython3",
   "version": "3.11.5"
  }
 },
 "nbformat": 4,
 "nbformat_minor": 5
}
